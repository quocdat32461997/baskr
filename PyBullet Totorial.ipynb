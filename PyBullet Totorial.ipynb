{
 "cells": [
  {
   "cell_type": "code",
   "execution_count": 1,
   "id": "57e0269a",
   "metadata": {},
   "outputs": [
    {
     "name": "stderr",
     "output_type": "stream",
     "text": [
      "pybullet build time: Oct 21 2022 15:47:56\n"
     ]
    }
   ],
   "source": [
    "import pybullet as p\n",
    "import pybullet_data"
   ]
  },
  {
   "cell_type": "code",
   "execution_count": 2,
   "id": "e2a661d0",
   "metadata": {},
   "outputs": [
    {
     "data": {
      "text/plain": [
       "0"
      ]
     },
     "execution_count": 2,
     "metadata": {},
     "output_type": "execute_result"
    }
   ],
   "source": [
    "p.connect(p.GUI)"
   ]
  },
  {
   "cell_type": "code",
   "execution_count": 3,
   "id": "6911e3e1",
   "metadata": {},
   "outputs": [],
   "source": [
    "p.setAdditionalSearchPath(pybullet_data.getDataPath())"
   ]
  },
  {
   "cell_type": "code",
   "execution_count": 17,
   "id": "f111e391",
   "metadata": {},
   "outputs": [
    {
     "data": {
      "text/plain": [
       "4"
      ]
     },
     "execution_count": 17,
     "metadata": {},
     "output_type": "execute_result"
    }
   ],
   "source": [
    "p.resetSimulation()\n",
    "\n",
    "# draw arm\n",
    "arm_id = p.loadURDF(\"franka_panda/panda.urdf\")\n",
    "\n",
    "# draw table\n",
    "table_id = p.loadURDF('table/table.urdf', [0, 2, 0])\n",
    "\n",
    "# draw box at center of the table\n",
    "table_bottom_left_idx, box_idx = p.getAABB(table_id)\n",
    "box_idx = list(box_idx)\n",
    "box_idx[0] = 0\n",
    "box_idx[1] = table_bottom_left_idx[1] + abs(table_bottom_left_idx[1] - box_idx[1]) / 2\n",
    "box_id = p.loadURDF(\"tray/traybox.urdf\", box_idx)\n",
    "\n",
    "ball_pos = p.getBasePositionAndOrientation(arm_id)[1]\n",
    "ball_pos = list(ball_pos)\n",
    "ball_pos[0] += 0.5\n",
    "ball = p.loadURDF(\"sphere_small.urdf\", ball_pos[:3])\n",
    "#r2d2 = p.loadURDF('r2d2.urdf', [0, 0, 0.5])\n",
    "p.getNumBodies()"
   ]
  },
  {
   "cell_type": "code",
   "execution_count": 15,
   "id": "2bb2d787",
   "metadata": {},
   "outputs": [
    {
     "data": {
      "text/plain": [
       "((0.0, 0.0, 0.05), (0.0, 0.0, 0.0, 1.0))"
      ]
     },
     "execution_count": 15,
     "metadata": {},
     "output_type": "execute_result"
    }
   ],
   "source": [
    "p.getBasePositionAndOrientation(arm_id)"
   ]
  },
  {
   "cell_type": "code",
   "execution_count": 6,
   "id": "274c0cf8",
   "metadata": {},
   "outputs": [
    {
     "name": "stdout",
     "output_type": "stream",
     "text": [
      "r2d2 unique ID: 1\n",
      "Joint(index=0, name='base_to_right_leg', type=4, gIndex=-1, uIndex=-1, flags=0, damping=0.0, friction=0.0, lowerLimit=0.0, upperLimit=-1.0, maxForce=0.0, maxVelocity=0.0, linkName='right_leg', axis=(0.0, 0.0, 0.0), parentFramePosition=(0.22, 0.0, 0.25), parentFrameOrientation=(0.0, -0.7070904020014416, 0.0, 0.7071231599922604), parentIndex=-1)\n",
      "Joint(index=1, name='right_base_joint', type=4, gIndex=-1, uIndex=-1, flags=0, damping=0.0, friction=0.0, lowerLimit=0.0, upperLimit=-1.0, maxForce=0.0, maxVelocity=0.0, linkName='right_base', axis=(0.0, 0.0, 0.0), parentFramePosition=(0.2999999996780742, 0.0, -1.3898038463944216e-05), parentFrameOrientation=(0.0, 0.7070904020014416, 0.0, 0.7071231599922604), parentIndex=0)\n",
      "Joint(index=2, name='right_front_wheel_joint', type=0, gIndex=7, uIndex=6, flags=1, damping=0.0, friction=0.0, lowerLimit=0.0, upperLimit=-1.0, maxForce=100.0, maxVelocity=100.0, linkName='right_front_wheel', axis=(0.0, 0.0, 1.0), parentFramePosition=(0.0, 0.133333333333, -0.085), parentFrameOrientation=(0.0, -0.7070904020014416, 0.0, 0.7071231599922604), parentIndex=1)\n",
      "Joint(index=3, name='right_back_wheel_joint', type=0, gIndex=8, uIndex=7, flags=1, damping=0.0, friction=0.0, lowerLimit=0.0, upperLimit=-1.0, maxForce=100.0, maxVelocity=100.0, linkName='right_back_wheel', axis=(0.0, 0.0, 1.0), parentFramePosition=(0.0, -0.133333333333, -0.085), parentFrameOrientation=(0.0, -0.7070904020014416, 0.0, 0.7071231599922604), parentIndex=1)\n",
      "Joint(index=4, name='base_to_left_leg', type=4, gIndex=-1, uIndex=-1, flags=0, damping=0.0, friction=0.0, lowerLimit=0.0, upperLimit=-1.0, maxForce=0.0, maxVelocity=0.0, linkName='left_leg', axis=(0.0, 0.0, 0.0), parentFramePosition=(-0.22, 0.0, 0.25), parentFrameOrientation=(0.0, -0.7070904020014416, 0.0, 0.7071231599922604), parentIndex=-1)\n",
      "Joint(index=5, name='left_base_joint', type=4, gIndex=-1, uIndex=-1, flags=0, damping=0.0, friction=0.0, lowerLimit=0.0, upperLimit=-1.0, maxForce=0.0, maxVelocity=0.0, linkName='left_base', axis=(0.0, 0.0, 0.0), parentFramePosition=(0.2999999996780742, 0.0, -1.3898038463944216e-05), parentFrameOrientation=(0.0, 0.7070904020014416, 0.0, 0.7071231599922604), parentIndex=4)\n",
      "Joint(index=6, name='left_front_wheel_joint', type=0, gIndex=9, uIndex=8, flags=1, damping=0.0, friction=0.0, lowerLimit=0.0, upperLimit=-1.0, maxForce=100.0, maxVelocity=100.0, linkName='left_front_wheel', axis=(0.0, 0.0, 1.0), parentFramePosition=(0.0, 0.133333333333, -0.085), parentFrameOrientation=(0.0, -0.7070904020014416, 0.0, 0.7071231599922604), parentIndex=5)\n",
      "Joint(index=7, name='left_back_wheel_joint', type=0, gIndex=10, uIndex=9, flags=1, damping=0.0, friction=0.0, lowerLimit=0.0, upperLimit=-1.0, maxForce=100.0, maxVelocity=100.0, linkName='left_back_wheel', axis=(0.0, 0.0, 1.0), parentFramePosition=(0.0, -0.133333333333, -0.085), parentFrameOrientation=(0.0, -0.7070904020014416, 0.0, 0.7071231599922604), parentIndex=5)\n",
      "Joint(index=8, name='gripper_extension', type=1, gIndex=11, uIndex=10, flags=1, damping=0.0, friction=0.0, lowerLimit=-0.38, upperLimit=0.0, maxForce=1000.0, maxVelocity=0.5, linkName='gripper_pole', axis=(1.0, 0.0, 0.0), parentFramePosition=(0.0, 0.19, 0.2), parentFrameOrientation=(0.0, 0.0, -0.7070904020014416, 0.7071231599922604), parentIndex=-1)\n",
      "Joint(index=9, name='left_gripper_joint', type=0, gIndex=12, uIndex=11, flags=1, damping=0.0, friction=0.0, lowerLimit=0.0, upperLimit=0.548, maxForce=1000.0, maxVelocity=0.5, linkName='left_gripper', axis=(0.0, 0.0, 1.0), parentFramePosition=(0.2, 0.02, 0.0), parentFrameOrientation=(0.0, 0.0, 0.0, 1.0), parentIndex=8)\n",
      "Joint(index=10, name='left_tip_joint', type=4, gIndex=-1, uIndex=-1, flags=0, damping=0.0, friction=0.0, lowerLimit=0.0, upperLimit=-1.0, maxForce=0.0, maxVelocity=0.0, linkName='left_tip', axis=(0.0, 0.0, 0.0), parentFramePosition=(0.0, 0.0, 0.0), parentFrameOrientation=(0.0, 0.0, 0.0, 1.0), parentIndex=9)\n",
      "Joint(index=11, name='right_gripper_joint', type=0, gIndex=13, uIndex=12, flags=1, damping=0.0, friction=0.0, lowerLimit=0.0, upperLimit=0.548, maxForce=1000.0, maxVelocity=0.5, linkName='right_gripper', axis=(0.0, 0.0, -1.0), parentFramePosition=(0.2, -0.02, 0.0), parentFrameOrientation=(0.0, 0.0, 0.0, 1.0), parentIndex=8)\n",
      "Joint(index=12, name='right_tip_joint', type=4, gIndex=-1, uIndex=-1, flags=0, damping=0.0, friction=0.0, lowerLimit=0.0, upperLimit=-1.0, maxForce=0.0, maxVelocity=0.0, linkName='right_tip', axis=(0.0, 0.0, 0.0), parentFramePosition=(0.0, 0.0, 0.0), parentFrameOrientation=(0.0, 0.0, 0.0, 1.0), parentIndex=11)\n",
      "Joint(index=13, name='head_swivel', type=0, gIndex=14, uIndex=13, flags=1, damping=0.0, friction=0.0, lowerLimit=-0.38, upperLimit=0.0, maxForce=1000.0, maxVelocity=0.5, linkName='head', axis=(0.0, 0.0, 1.0), parentFramePosition=(0.0, 0.0, 0.3), parentFrameOrientation=(0.0, 0.0, 0.0, 1.0), parentIndex=-1)\n",
      "Joint(index=14, name='tobox', type=4, gIndex=-1, uIndex=-1, flags=0, damping=0.0, friction=0.0, lowerLimit=0.0, upperLimit=-1.0, maxForce=0.0, maxVelocity=0.0, linkName='box', axis=(0.0, 0.0, 0.0), parentFramePosition=(0.0, 0.1214, 0.1214), parentFrameOrientation=(0.0, 0.0, 0.0, 1.0), parentIndex=13)\n"
     ]
    }
   ],
   "source": [
    "# First let's define a class for the JointInfo.\n",
    "from dataclasses import dataclass\n",
    "\n",
    "@dataclass\n",
    "class Joint:\n",
    "  index: int\n",
    "  name: str\n",
    "  type: int\n",
    "  gIndex: int\n",
    "  uIndex: int\n",
    "  flags: int\n",
    "  damping: float\n",
    "  friction: float\n",
    "  lowerLimit: float\n",
    "  upperLimit: float\n",
    "  maxForce: float\n",
    "  maxVelocity: float\n",
    "  linkName: str\n",
    "  axis: tuple\n",
    "  parentFramePosition: tuple\n",
    "  parentFrameOrientation: tuple\n",
    "  parentIndex: int\n",
    "\n",
    "  def __post_init__(self):\n",
    "    self.name = str(self.name, 'utf-8')\n",
    "    self.linkName = str(self.linkName, 'utf-8')\n",
    "\n",
    "# Let's analyze the R2D2 droid!\n",
    "print(f\"r2d2 unique ID: {r2d2}\")\n",
    "for i in range(p.getNumJoints(r2d2)):\n",
    "  joint = Joint(*p.getJointInfo(r2d2, i))\n",
    "  print(joint)"
   ]
  },
  {
   "cell_type": "code",
   "execution_count": 7,
   "id": "2bf9eb9b",
   "metadata": {},
   "outputs": [],
   "source": [
    "# Set the gravity to Earth's gravity.\n",
    "p.setGravity(0, 0, -9.807)"
   ]
  },
  {
   "cell_type": "code",
   "execution_count": 8,
   "id": "bf621881",
   "metadata": {},
   "outputs": [
    {
     "name": "stdout",
     "output_type": "stream",
     "text": [
      "  0: x=0.0000000000, y=0.0000000000, z=0.5000000000), roll=0.0000000000, pitch=-0.0000000000, yaw=0.0000000000\n",
      "  1: x=-0.0000000000, y=0.0000000000, z=0.4998297396), roll=0.0000000000, pitch=-0.0000000000, yaw=-0.0000000000\n",
      "  2: x=-0.0000000000, y=0.0000000000, z=0.4994892483), roll=0.0000000000, pitch=-0.0000000000, yaw=-0.0000000000\n",
      "  3: x=-0.0000000000, y=0.0000000000, z=0.4989785580), roll=0.0000000000, pitch=-0.0000000000, yaw=-0.0000000000\n",
      "  4: x=0.0000000000, y=0.0000000000, z=0.4982977028), roll=0.0000000000, pitch=0.0000000000, yaw=0.0000000000\n",
      "  5: x=0.0000000000, y=0.0000000000, z=0.4974467192), roll=0.0000000000, pitch=0.0000000000, yaw=0.0000000000\n",
      "  6: x=0.0000000000, y=0.0000000000, z=0.4964256460), roll=0.0000000000, pitch=0.0000000000, yaw=0.0000000000\n",
      "  7: x=0.0000000000, y=0.0000000000, z=0.4952345242), roll=0.0000000000, pitch=0.0000000000, yaw=0.0000000000\n",
      "  8: x=0.0000000000, y=0.0000000000, z=0.4938733973), roll=0.0000000000, pitch=0.0000000000, yaw=0.0000000000\n",
      "  9: x=0.0000000000, y=0.0000000000, z=0.4923423110), roll=0.0000000000, pitch=0.0000000000, yaw=0.0000000000\n",
      " 10: x=0.0000000000, y=0.0000000000, z=0.4906413131), roll=0.0000000000, pitch=0.0000000000, yaw=0.0000000000\n",
      " 11: x=0.0000000000, y=0.0000000000, z=0.4887704541), roll=0.0000000000, pitch=0.0000000000, yaw=0.0000000000\n",
      " 12: x=0.0000000000, y=0.0000000000, z=0.4867297865), roll=0.0000000000, pitch=0.0000000000, yaw=0.0000000000\n",
      " 13: x=0.0000000000, y=0.0000000000, z=0.4845193652), roll=0.0000000000, pitch=0.0000000000, yaw=0.0000000000\n",
      " 14: x=0.0000000000, y=0.0000000000, z=0.4821392473), roll=0.0000000000, pitch=0.0000000000, yaw=0.0000000000\n",
      " 15: x=0.0000000000, y=0.0000000000, z=0.4795894923), roll=0.0000000000, pitch=0.0000000000, yaw=0.0000000000\n",
      " 16: x=0.0000000000, y=0.0000000000, z=0.4768701618), roll=0.0000000000, pitch=0.0000000000, yaw=0.0000000000\n",
      " 17: x=0.0000000000, y=0.0000000000, z=0.4739813200), roll=0.0000000000, pitch=0.0000000000, yaw=0.0000000000\n",
      " 18: x=0.0000000000, y=0.0000000000, z=0.4709230330), roll=0.0000000000, pitch=0.0000000000, yaw=0.0000000000\n",
      " 19: x=0.0000001301, y=-0.0000076993, z=0.4709287133), roll=0.0000021077, pitch=0.0000002240, yaw=0.0000001173\n"
     ]
    }
   ],
   "source": [
    "# Run the simulation for a fixed amount of steps.\n",
    "for i in range(20):\n",
    "    position, orientation = p.getBasePositionAndOrientation(r2d2)\n",
    "    x, y, z = position\n",
    "    roll, pitch, yaw = p.getEulerFromQuaternion(orientation)\n",
    "    print(f\"{i:3}: x={x:0.10f}, y={y:0.10f}, z={z:0.10f}), roll={roll:0.10f}, pitch={pitch:0.10f}, yaw={yaw:0.10f}\")\n",
    "    p.stepSimulation()"
   ]
  },
  {
   "cell_type": "code",
   "execution_count": null,
   "id": "2f0178c5",
   "metadata": {},
   "outputs": [],
   "source": []
  }
 ],
 "metadata": {
  "kernelspec": {
   "display_name": "robotics",
   "language": "python",
   "name": "robotics"
  },
  "language_info": {
   "codemirror_mode": {
    "name": "ipython",
    "version": 3
   },
   "file_extension": ".py",
   "mimetype": "text/x-python",
   "name": "python",
   "nbconvert_exporter": "python",
   "pygments_lexer": "ipython3",
   "version": "3.10.4"
  }
 },
 "nbformat": 4,
 "nbformat_minor": 5
}
